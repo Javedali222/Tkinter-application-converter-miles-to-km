{
 "cells": [
  {
   "cell_type": "code",
   "execution_count": 1,
   "id": "3a546d6e-609d-4cc6-b03a-2d4039710206",
   "metadata": {},
   "outputs": [],
   "source": [
    "def convertor():\n",
    "    km = int(kilometer_entry.get())\n",
    "    miles = km * 0.621371\n",
    "    output_text.config(state=tk.NORMAL)  # Ensure Text widget is in NORMAL state to modify it\n",
    "    output_text.delete(1.0, tk.END)      # Clear previous content\n",
    "    output_text.insert(tk.END, f\"Total miles for {km} km are {miles:.2f}\")  # Insert f-string directly\n",
    "    output_text.config(state=tk.DISABLED) # Disable editing\n",
    "\n",
    "import tkinter as tk\n",
    "def validate_number(char):\n",
    "    return char.isdigit()\n",
    "root = tk.Tk()\n",
    "root.geometry(\"500x500\")\n",
    "\n",
    "kilometer_label = tk.Label(text = \"Kilometer\",font = 25)\n",
    "kilometer_label.grid(row = 0,column = 0,padx = 25,pady = 25)\n",
    "\n",
    "kilometer_entry = tk.Entry(width=50,bg=\"powderblue\",borderwidth=10,validate=\"key\", validatecommand=(root.register(validate_number), '%S'))\n",
    "kilometer_entry.grid(row = 0,column=1)\n",
    "\n",
    "convert_button = tk.Button(text = \"CONVERT\",command=convertor)\n",
    "convert_button.grid(row=1,column=1)\n",
    "\n",
    "output_text = tk.Text(height=10, width=50)\n",
    "output_text.grid(row=3,column=1)\n",
    "\n",
    "\n",
    "\n",
    "\n",
    "root.mainloop()"
   ]
  },
  {
   "cell_type": "code",
   "execution_count": null,
   "id": "2dcd6574",
   "metadata": {},
   "outputs": [],
   "source": []
  },
  {
   "cell_type": "code",
   "execution_count": null,
   "id": "c0549000-72b2-4aab-bea8-9d8a4f5fd1d3",
   "metadata": {},
   "outputs": [],
   "source": []
  }
 ],
 "metadata": {
  "kernelspec": {
   "display_name": "Python 3 (ipykernel)",
   "language": "python",
   "name": "python3"
  },
  "language_info": {
   "codemirror_mode": {
    "name": "ipython",
    "version": 3
   },
   "file_extension": ".py",
   "mimetype": "text/x-python",
   "name": "python",
   "nbconvert_exporter": "python",
   "pygments_lexer": "ipython3",
   "version": "3.12.4"
  }
 },
 "nbformat": 4,
 "nbformat_minor": 5
}
